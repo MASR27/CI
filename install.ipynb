# Define the required dependencies for the Just the Docs theme
dependencies = [
    "github-pages",
    "just-the-docs"
]

# Create a Gemfile with the required dependencies
with open('Gemfile', 'w') as outfile:
    outfile.write("source 'https://rubygems.org'\n")
    outfile.write("gem 'github-pages', group: :jekyll_plugins\n")
    outfile.write("gem 'just-the-docs', group: :jekyll_plugins\n")
    
# Install the required dependencies and generate the Gemfile.lock file
import subprocess
subprocess.call(["bundle", "install"])

# Save the Gemfile.lock file to disk
subprocess.call(["bundle", "lock"])
